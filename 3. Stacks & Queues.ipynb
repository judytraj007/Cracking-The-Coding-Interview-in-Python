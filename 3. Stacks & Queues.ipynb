{
 "cells": [
  {
   "cell_type": "markdown",
   "id": "10615066",
   "metadata": {},
   "source": [
    "### 1. Design three stacks using one array.\n",
    "- Approach 1: Fixed division i.e. allocate specific parts of the array to each stack.\n",
    "- Approach 2: Flexible division i.e. expand space by shifting elements when stack is full."
   ]
  },
  {
   "cell_type": "code",
   "execution_count": 1,
   "id": "5de4d9ba",
   "metadata": {},
   "outputs": [
    {
     "name": "stdout",
     "output_type": "stream",
     "text": [
      "2\n",
      "3\n",
      "4\n",
      "2\n",
      "3\n",
      "4\n"
     ]
    }
   ],
   "source": [
    "class ThreeStacks:\n",
    "    def __init__(self, stack_size):\n",
    "        self.stack_size = stack_size\n",
    "        self.array = [None] * (stack_size * 3)\n",
    "        self.pointers = [-1, -1, -1]  # Pointers for each stack\n",
    "    \n",
    "    def push(self, stack_num, value):\n",
    "        if self.pointers[stack_num] < self.stack_size - 1:\n",
    "            self.pointers[stack_num] += 1\n",
    "            index = stack_num * self.stack_size + self.pointers[stack_num]\n",
    "            self.array[index] = value\n",
    "        else:\n",
    "            print(f\"Stack {stack_num} is full.\")\n",
    "\n",
    "    def pop(self, stack_num):\n",
    "        if self.pointers[stack_num] >= 0:\n",
    "            index = stack_num * self.stack_size + self.pointers[stack_num]\n",
    "            value = self.array[index]\n",
    "            self.array[index] = None\n",
    "            self.pointers[stack_num] -= 1\n",
    "            return value\n",
    "        else:\n",
    "            print(f\"Stack {stack_num} is empty.\")\n",
    "            return None\n",
    "\n",
    "    def peek(self, stack_num):\n",
    "        if self.pointers[stack_num] >= 0:\n",
    "            index = stack_num * self.stack_size + self.pointers[stack_num]\n",
    "            return self.array[index]\n",
    "        else:\n",
    "            print(f\"Stack {stack_num} is empty.\")\n",
    "            return None\n",
    "\n",
    "# Example usage:\n",
    "stacks = ThreeStacks(5)\n",
    "\n",
    "stacks.push(0, 1)\n",
    "stacks.push(0, 2)\n",
    "stacks.push(1, 3)\n",
    "stacks.push(2, 4)\n",
    "\n",
    "print(stacks.peek(0))  # Output: 2\n",
    "print(stacks.peek(1))  # Output: 3\n",
    "print(stacks.peek(2))  # Output: 4\n",
    "\n",
    "print(stacks.pop(0))   # Output: 2\n",
    "print(stacks.pop(1))   # Output: 3\n",
    "print(stacks.pop(2))   # Output: 4\n"
   ]
  },
  {
   "cell_type": "markdown",
   "id": "69b3664e",
   "metadata": {},
   "source": [
    "### 2. Stack with min method\n",
    "- Design a stack with a min method that returns the minimum in the stack. push,  pop and min must be all O(1).\n",
    "\n",
    "Either have each element track what the minimum was when it was inserted (not space efficient) or use a stack for tracking mininum."
   ]
  },
  {
   "cell_type": "code",
   "execution_count": 3,
   "id": "2a383971",
   "metadata": {},
   "outputs": [
    {
     "name": "stdout",
     "output_type": "stream",
     "text": [
      "3\n",
      "5\n"
     ]
    }
   ],
   "source": [
    "class MinStack:\n",
    "    def __init__(self):\n",
    "        self.stack = []\n",
    "        self.min_stack = []\n",
    "\n",
    "    def push(self, value):\n",
    "        self.stack.append(value)\n",
    "        if not self.min_stack or value <= self.min_stack[-1]:\n",
    "            self.min_stack.append(value) # we cannot pop the -1 without popping everything that came after. Only need to store if new number is less than the current minimum.\n",
    "\n",
    "    def pop(self):\n",
    "        if not self.stack:\n",
    "            return None\n",
    "        popped = self.stack.pop()\n",
    "        if popped == self.min_stack[-1]:\n",
    "            self.min_stack.pop()\n",
    "        return popped\n",
    "\n",
    "    def min(self):\n",
    "        if not self.min_stack:\n",
    "            return None\n",
    "        return self.min_stack[-1]\n",
    "\n",
    "# Example usage:\n",
    "stack = MinStack()\n",
    "stack.push(5)\n",
    "stack.push(6)\n",
    "stack.push(3)\n",
    "print(stack.min())  # Output: 3\n",
    "stack.pop()\n",
    "print(stack.min())  # Output: 5\n"
   ]
  },
  {
   "cell_type": "markdown",
   "id": "20423ea7",
   "metadata": {},
   "source": [
    "### 3. Set of Stacks\n",
    "- Implement a data structure set of stacks that is composed of several stacks and creates a new stack when current stack exceeds capacity.\n",
    "- Pop, push should work like a single stack.\n",
    "- Adds a method PopAt(index) which pops from a specific substack."
   ]
  },
  {
   "cell_type": "code",
   "execution_count": 4,
   "id": "11ce6c22",
   "metadata": {},
   "outputs": [
    {
     "name": "stdout",
     "output_type": "stream",
     "text": [
      "4\n",
      "3\n"
     ]
    }
   ],
   "source": [
    "class SetOfStacks:\n",
    "    def __init__(self, capacity):\n",
    "        if capacity <= 0:\n",
    "            raise ValueError(\"Capacity must be a positive integer.\")\n",
    "        self.capacity = capacity\n",
    "        self.stacks = [[]]\n",
    "\n",
    "    def push(self, value):\n",
    "        if len(self.stacks[-1]) >= self.capacity:\n",
    "            self.stacks.append([])\n",
    "        self.stacks[-1].append(value)\n",
    "\n",
    "    def pop(self):\n",
    "        if not self.stacks:\n",
    "            raise IndexError(\"Stack is empty.\")\n",
    "        value = self.stacks[-1].pop()\n",
    "        if len(self.stacks[-1]) == 0 and len(self.stacks) > 1:\n",
    "            self.stacks.pop()\n",
    "        return value\n",
    "\n",
    "    def popAt(self, index):\n",
    "        if index < 0 or index >= len(self.stacks):\n",
    "            raise IndexError(\"Invalid stack index.\")\n",
    "        if len(self.stacks[index]) == 0:\n",
    "            raise IndexError(\"Stack at index is empty.\")\n",
    "        value = self.stacks[index].pop()\n",
    "        if len(self.stacks[index]) == 0 and len(self.stacks) > 1:\n",
    "            self.stacks.pop(index)\n",
    "        return value\n",
    "\n",
    "# Example usage:\n",
    "set_of_stacks = SetOfStacks(3)\n",
    "\n",
    "set_of_stacks.push(1)\n",
    "set_of_stacks.push(2)\n",
    "set_of_stacks.push(3)\n",
    "set_of_stacks.push(4)\n",
    "\n",
    "print(set_of_stacks.pop())  # Output: 4\n",
    "print(set_of_stacks.popAt(0))  # Output: 3\n"
   ]
  },
  {
   "cell_type": "markdown",
   "id": "46c9b2f7",
   "metadata": {},
   "source": [
    "### 4. Queue with two stacks"
   ]
  },
  {
   "cell_type": "code",
   "execution_count": 6,
   "id": "d54138b9",
   "metadata": {},
   "outputs": [
    {
     "name": "stdout",
     "output_type": "stream",
     "text": [
      "1\n",
      "2\n",
      "2\n"
     ]
    }
   ],
   "source": [
    "class QueueUsingStacks:\n",
    "    def __init__(self):\n",
    "        self.enqueue_stack = []\n",
    "        self.dequeue_stack = []\n",
    "\n",
    "    def enqueue(self, value):\n",
    "        self.enqueue_stack.append(value)\n",
    "\n",
    "    def dequeue(self):\n",
    "        if not self.dequeue_stack:\n",
    "            if not self.enqueue_stack:\n",
    "                return None\n",
    "            self._transfer_elements()\n",
    "        return self.dequeue_stack.pop()\n",
    "\n",
    "    def _transfer_elements(self):\n",
    "        while self.enqueue_stack:\n",
    "            self.dequeue_stack.append(self.enqueue_stack.pop())\n",
    "\n",
    "    def peek(self):\n",
    "        if not self.dequeue_stack:\n",
    "            if not self.enqueue_stack:\n",
    "                return None\n",
    "            self._transfer_elements()\n",
    "        return self.dequeue_stack[-1]        \n",
    "\n",
    "# Example usage:\n",
    "queue = QueueUsingStacks()\n",
    "\n",
    "queue.enqueue(1)\n",
    "queue.enqueue(2)\n",
    "queue.enqueue(3)\n",
    "\n",
    "print(queue.dequeue())  # Output: 1\n",
    "print(queue.peek())     # Output: 2\n",
    "\n",
    "queue.enqueue(4)\n",
    "print(queue.peek())"
   ]
  },
  {
   "cell_type": "markdown",
   "id": "e7122589",
   "metadata": {},
   "source": [
    "### 5. Sort Stack\n",
    "- Sort the elements in a stack in increasing order using only an extra stack for aid. stack has pop, peek, isempty method."
   ]
  },
  {
   "cell_type": "code",
   "execution_count": 9,
   "id": "7116f4c3",
   "metadata": {},
   "outputs": [],
   "source": [
    "def sort_stack(stack):\n",
    "    temp = [] # temporary stack\n",
    "    while len(stack) > 0:\n",
    "        cur = stack.pop()\n",
    "        while len(temp) > 0 and temp[-1] < cur:\n",
    "            # insert and pop from last\n",
    "            stack.append(temp.pop())\n",
    "\n",
    "        # if temp is empty or top element is greater than current, insert current above \n",
    "        temp.append(cur)\n",
    "    return temp[::-1]\n",
    "    "
   ]
  },
  {
   "cell_type": "code",
   "execution_count": 10,
   "id": "0d5b46c0",
   "metadata": {},
   "outputs": [
    {
     "data": {
      "text/plain": [
       "[1, 5, 7, 10]"
      ]
     },
     "execution_count": 10,
     "metadata": {},
     "output_type": "execute_result"
    }
   ],
   "source": [
    "stack = [1,10,5,7]\n",
    "sort_stack(stack)"
   ]
  },
  {
   "cell_type": "markdown",
   "id": "8f18e6ce",
   "metadata": {},
   "source": [
    "### 6. Animal Shelter\n",
    "There is an animal shelter that only accepts dogs and cats and strictly adheres to the \"first in, first out\" principle. When adopting an animal from this shelter, the adopter can only adopt the \"oldest\" of all the animals (based on how long they have been at the shelter), or they can choose a cat or dog (and must also adopt one of the \"oldest\" animals in the shelter). \"oldest). In other words, adopters are not free to choose who they want to adopt. Please create a data structure suitable for this system and implement various operation methods, such as enqueue, dequeueAny, dequeueDogand dequeueCat"
   ]
  },
  {
   "cell_type": "code",
   "execution_count": null,
   "id": "199908b8",
   "metadata": {},
   "outputs": [],
   "source": [
    "class AnimalShelf:\n",
    "\n",
    "    def __init__(self):\n",
    "        self.cats = []\n",
    "        self.dogs = []\n",
    "\n",
    "\n",
    "    def enqueue(self, animal: List[int]) -> None:\n",
    "        if animal[1] == 0:\n",
    "            self.cats.append(animal[0])\n",
    "        else:\n",
    "            self.dogs.append(animal[0])\n",
    "\n",
    "\n",
    "    def dequeueAny(self) -> List[int]:\n",
    "        if self.cats and self.dogs:\n",
    "            cat = self.cats[0]\n",
    "            dog = self.dogs[0]\n",
    "            if dog > cat:\n",
    "                return [self.dogs.pop(0), 1]\n",
    "            else:\n",
    "                return [self.cats.pop(0), 0]\n",
    "        elif self.cats:\n",
    "            return [self.cats.pop(0), 0]\n",
    "        elif self.dogs:\n",
    "            return [self.dogs.pop(0), 1]\n",
    "        else:\n",
    "            return [-1,-1]\n",
    "        \n",
    "    def dequeueDog(self) -> List[int]:\n",
    "        if self.dogs:\n",
    "            return [self.dogs.pop(0), 1]\n",
    "        else:\n",
    "            return [-1, -1]\n",
    "\n",
    "    def dequeueCat(self) -> List[int]:\n",
    "        if self.cats:\n",
    "            return [self.cats.pop(0), 0]\n",
    "        else:\n",
    "            return [-1, -1]"
   ]
  }
 ],
 "metadata": {
  "kernelspec": {
   "display_name": "Python 3 (ipykernel)",
   "language": "python",
   "name": "python3"
  },
  "language_info": {
   "codemirror_mode": {
    "name": "ipython",
    "version": 3
   },
   "file_extension": ".py",
   "mimetype": "text/x-python",
   "name": "python",
   "nbconvert_exporter": "python",
   "pygments_lexer": "ipython3",
   "version": "3.11.5"
  }
 },
 "nbformat": 4,
 "nbformat_minor": 5
}
