{
 "cells": [
  {
   "cell_type": "code",
   "execution_count": 43,
   "id": "a7503444",
   "metadata": {},
   "outputs": [],
   "source": [
    "class Node:\n",
    "    def __init__(self, value, next=None):\n",
    "        self.data = value\n",
    "        self.next = next\n",
    "        \n",
    "    def __repr__(self):\n",
    "        s = str(self.data)\n",
    "        cur = self.next\n",
    "        while cur:\n",
    "            s+='-->'+str(cur.data)\n",
    "            cur = cur.next\n",
    "        return s\n",
    "\n",
    "\n",
    "head = Node(1)\n",
    "head.next = Node(2)\n",
    "head.next.next = Node(3)\n",
    "head.next.next.next = Node(4)\n",
    "head.next.next.next.next = Node(2)"
   ]
  },
  {
   "cell_type": "code",
   "execution_count": 42,
   "id": "3b857f77",
   "metadata": {},
   "outputs": [
    {
     "data": {
      "text/plain": [
       "1-->2-->3-->4-->2"
      ]
     },
     "execution_count": 42,
     "metadata": {},
     "output_type": "execute_result"
    }
   ],
   "source": [
    "head"
   ]
  },
  {
   "cell_type": "markdown",
   "id": "e02d5e13",
   "metadata": {},
   "source": [
    "### 1. Remove Duplicates\n",
    "\n",
    "- Given an unsorted linked list, remove duplicate elements"
   ]
  },
  {
   "cell_type": "code",
   "execution_count": 35,
   "id": "bf200466",
   "metadata": {},
   "outputs": [],
   "source": [
    "def remove_dups(head):\n",
    "    curr = head\n",
    "    while curr.next is not None:\n",
    "        runner = curr\n",
    "        while runner.next is not None:\n",
    "            if curr.data == runner.next.data:\n",
    "                runner.next = runner.next.next\n",
    "            else:\n",
    "                runner = runner.next\n",
    "        curr = curr.next\n",
    "    return head"
   ]
  },
  {
   "cell_type": "code",
   "execution_count": 36,
   "id": "cca0f2cc",
   "metadata": {},
   "outputs": [
    {
     "data": {
      "text/plain": [
       "1-->2-->3-->4"
      ]
     },
     "execution_count": 36,
     "metadata": {},
     "output_type": "execute_result"
    }
   ],
   "source": [
    "remove_dups(head) # O(n**2) but no space complexity\n",
    "# Alternatively, use a set to track values already seen and maintain previous node to set to current.next if data in set."
   ]
  },
  {
   "cell_type": "markdown",
   "id": "69ad703c",
   "metadata": {},
   "source": [
    "### 2. Remove Kth to Last\n",
    "\n",
    "- Remove the kth element from the end of the linkedlist if length is not given."
   ]
  },
  {
   "cell_type": "code",
   "execution_count": 43,
   "id": "263c976a",
   "metadata": {},
   "outputs": [],
   "source": [
    "def remove_kth_node(head, k):\n",
    "    temp = head\n",
    "    for i in range(k):\n",
    "        if temp:\n",
    "            temp = temp.next\n",
    "        i+=1\n",
    "        \n",
    "    cur = head\n",
    "    while head:\n",
    "        if temp.next is None:\n",
    "            cur.next = cur.next.next\n",
    "            break\n",
    "        cur = cur.next\n",
    "        temp = temp.next\n",
    "        \n",
    "    return head\n",
    "        "
   ]
  },
  {
   "cell_type": "code",
   "execution_count": 44,
   "id": "a9aaf506",
   "metadata": {},
   "outputs": [
    {
     "data": {
      "text/plain": [
       "1-->2-->3-->2"
      ]
     },
     "execution_count": 44,
     "metadata": {},
     "output_type": "execute_result"
    }
   ],
   "source": [
    "remove_kth_node(head, k=2)"
   ]
  },
  {
   "cell_type": "markdown",
   "id": "134d1bf8",
   "metadata": {},
   "source": [
    "### 3. Delete middle node\n",
    "\n",
    "- Given only a specific node from a linkedlist and not head, tail or length, delete the node"
   ]
  },
  {
   "cell_type": "code",
   "execution_count": 56,
   "id": "824d2258",
   "metadata": {},
   "outputs": [],
   "source": [
    "def delete_mid_node(node):\n",
    "    if node.next:\n",
    "        node.data = node.next.data\n",
    "        node.next = node.next.next\n",
    "    else:\n",
    "        node.data = None"
   ]
  },
  {
   "cell_type": "code",
   "execution_count": 60,
   "id": "d6afce33",
   "metadata": {},
   "outputs": [
    {
     "name": "stdout",
     "output_type": "stream",
     "text": [
      "3-->4-->2\n",
      "1-->2-->4-->2\n"
     ]
    }
   ],
   "source": [
    "cur = head\n",
    "for i in range(2):\n",
    "    cur = cur.next\n",
    "print(cur)\n",
    "delete_mid_node(cur)\n",
    "print(head)"
   ]
  },
  {
   "cell_type": "markdown",
   "id": "0d74f71c",
   "metadata": {},
   "source": [
    "### 4. Partition\n",
    "\n",
    "- Parition a list around a value x, so that all nodes with values less than x precedes all values greater than x"
   ]
  },
  {
   "cell_type": "code",
   "execution_count": 84,
   "id": "83a36637",
   "metadata": {},
   "outputs": [],
   "source": [
    "def part_around_x(head, x):\n",
    "    before = []\n",
    "    after = []\n",
    "\n",
    "    while head:\n",
    "        if head.data < x:\n",
    "            before.append(head)\n",
    "        else:\n",
    "            after.append(head)\n",
    "        head = head.next\n",
    "        \n",
    "    ans = Node(None)\n",
    "    copy = ans\n",
    "    for node in before:\n",
    "        ans.next = node\n",
    "        node.next = None\n",
    "        ans = node\n",
    "        \n",
    "    for node in after:\n",
    "        ans.next = node\n",
    "        node.next = None\n",
    "        ans = node\n",
    "        \n",
    "    return copy.next"
   ]
  },
  {
   "cell_type": "code",
   "execution_count": 85,
   "id": "49c92e9a",
   "metadata": {},
   "outputs": [
    {
     "data": {
      "text/plain": [
       "1-->2-->2-->3-->4"
      ]
     },
     "execution_count": 85,
     "metadata": {},
     "output_type": "execute_result"
    }
   ],
   "source": [
    "part_around_x(head, 3)"
   ]
  },
  {
   "cell_type": "markdown",
   "id": "03683667",
   "metadata": {},
   "source": [
    "### 5. Sum Lists\n",
    "\n",
    "- Given two linkedlist which represents two numbers in reverse order, return the sum as a linkedlist."
   ]
  },
  {
   "cell_type": "code",
   "execution_count": 17,
   "id": "07e06b5f",
   "metadata": {},
   "outputs": [],
   "source": [
    "def sum_lists(head1, head2):\n",
    "    \n",
    "    carry = 0\n",
    "    ans = Node(None)\n",
    "    ans_copy = ans\n",
    "    \n",
    "    while head1 or head2:\n",
    "        s = carry\n",
    "        if head1:\n",
    "            s+=head1.data\n",
    "            head1 = head1.next\n",
    "        if head2:\n",
    "            s+=head2.data\n",
    "            head2 = head2.next\n",
    "        \n",
    "        carry = s//10\n",
    "        ans.next = Node(s%10)\n",
    "        ans = ans.next\n",
    "        \n",
    "    return ans_copy.next\n",
    "        "
   ]
  },
  {
   "cell_type": "code",
   "execution_count": 18,
   "id": "c3b3bbb2",
   "metadata": {},
   "outputs": [
    {
     "data": {
      "text/plain": [
       "2-->4-->6-->8-->4"
      ]
     },
     "execution_count": 18,
     "metadata": {},
     "output_type": "execute_result"
    }
   ],
   "source": [
    "sum_lists(head, head)"
   ]
  },
  {
   "cell_type": "markdown",
   "id": "6923b715",
   "metadata": {},
   "source": [
    "### 6. Palindrome\n",
    "\n",
    "- Check if a linkedlist is a palindrome"
   ]
  },
  {
   "cell_type": "code",
   "execution_count": 37,
   "id": "54b5707c",
   "metadata": {},
   "outputs": [],
   "source": [
    "def palindrome(head):\n",
    "    # find length\n",
    "    l = 0\n",
    "    temp = head\n",
    "    while temp:\n",
    "        l+=1\n",
    "        temp = temp.next\n",
    "\n",
    "    mid = head\n",
    "    # find middle\n",
    "    for i in range(l//2):\n",
    "        mid = mid.next\n",
    "    if l%2 == 0:\n",
    "        mid_copy = mid\n",
    "    else:\n",
    "        mid_copy = mid.next\n",
    "    \n",
    "        \n",
    "    # reverse second half\n",
    "    prev = None\n",
    "    while mid_copy:\n",
    "        temp = mid_copy.next\n",
    "        mid_copy.next = prev\n",
    "        prev = mid_copy\n",
    "        mid_copy = temp\n",
    "        \n",
    "    # iterate simultaneously and check if palindrome\n",
    "    while head and prev:\n",
    "        if head.data != prev.data:\n",
    "            return False\n",
    "        head = head.next\n",
    "        prev = prev.next\n",
    "    return True\n",
    "        "
   ]
  },
  {
   "cell_type": "code",
   "execution_count": 39,
   "id": "f00af35a",
   "metadata": {},
   "outputs": [
    {
     "data": {
      "text/plain": [
       "False"
      ]
     },
     "execution_count": 39,
     "metadata": {},
     "output_type": "execute_result"
    }
   ],
   "source": [
    "head = Node(1)\n",
    "head.next = Node(2)\n",
    "head.next.next = Node(3)\n",
    "head.next.next.next = Node(3)\n",
    "head.next.next.next.next = Node(4)\n",
    "head.next.next.next.next.next = Node(1)\n",
    "\n",
    "\n",
    "palindrome(head)\n",
    "# Alternatively, iterate through list, construct string and check explicitly."
   ]
  },
  {
   "cell_type": "markdown",
   "id": "23c7e189",
   "metadata": {},
   "source": [
    "### 7. Intersection\n",
    "- Given two LinkedLists, find the intersecting node if they intersect."
   ]
  },
  {
   "cell_type": "code",
   "execution_count": 44,
   "id": "5eb3ba52",
   "metadata": {},
   "outputs": [],
   "source": [
    "def intersection(head1, head2):\n",
    "    # find lengths of both\n",
    "    def get_length(temp):\n",
    "        l = 0\n",
    "        while temp:\n",
    "            l+=1\n",
    "            temp = temp.next\n",
    "        return l\n",
    "\n",
    "    # advance the longer one until lengths are equal\n",
    "    l1 = get_length(head1)\n",
    "    l2 = get_length(head2)\n",
    "    if l2 > l1:\n",
    "        head1, head2 = head2, head1\n",
    "    for i in range(abs(l1-l2)):\n",
    "        head1 = head1.next\n",
    "\n",
    "    # step through both until intersection is found\n",
    "    while head1 and head2:\n",
    "        if head1 == head2:\n",
    "            return head1\n",
    "        head1 = head1.next\n",
    "        head2 = head2.next\n",
    "    return None"
   ]
  },
  {
   "cell_type": "code",
   "execution_count": 45,
   "id": "ba40362f",
   "metadata": {},
   "outputs": [
    {
     "data": {
      "text/plain": [
       "1-->2-->3-->4-->2"
      ]
     },
     "execution_count": 45,
     "metadata": {},
     "output_type": "execute_result"
    }
   ],
   "source": [
    "intersection(head, head)\n",
    "# Alternatively, store all the nodes of head1 in a set and check against head2"
   ]
  },
  {
   "cell_type": "markdown",
   "id": "a1a72ead",
   "metadata": {},
   "source": [
    "### 8. Loop Detection\n",
    "\n",
    "- Given a ciruclar linkedlist, return the start of the cycle."
   ]
  },
  {
   "cell_type": "code",
   "execution_count": 71,
   "id": "3a92738c",
   "metadata": {},
   "outputs": [],
   "source": [
    "def get_loop(head):\n",
    "    # find a node in the loop\n",
    "    slow = head\n",
    "    fast = head\n",
    "    while fast.next:\n",
    "        fast = fast.next.next\n",
    "        slow = slow.next\n",
    "        if fast == slow:\n",
    "            break\n",
    "\n",
    "    # find length of the loop\n",
    "    l = 0\n",
    "    loop = slow\n",
    "    while loop:\n",
    "        l+=1\n",
    "        loop = loop.next\n",
    "        if loop == slow:\n",
    "            break\n",
    "    \n",
    "    # start a pointer at head and another at head+length and step until they meet, to find the start.\n",
    "    slow = head\n",
    "    runner = head\n",
    "    for i in range(l):\n",
    "        runner = runner.next\n",
    "\n",
    "    while True:\n",
    "        if runner == slow:\n",
    "            return runner.data\n",
    "        slow = slow.next\n",
    "        runner = runner.next"
   ]
  },
  {
   "cell_type": "code",
   "execution_count": 72,
   "id": "608e367d",
   "metadata": {},
   "outputs": [
    {
     "data": {
      "text/plain": [
       "3"
      ]
     },
     "execution_count": 72,
     "metadata": {},
     "output_type": "execute_result"
    }
   ],
   "source": [
    "# Creating nodes\n",
    "node1 = Node(1)\n",
    "node2 = Node(2)\n",
    "node3 = Node(3)\n",
    "node4 = Node(4)\n",
    "node5 = Node(5)\n",
    "\n",
    "# Connecting nodes to form a linked list\n",
    "node1.next = node2\n",
    "node2.next = node3\n",
    "node3.next = node4\n",
    "node4.next = node5\n",
    "\n",
    "# Creating a loop by connecting the last node to a node somewhere earlier in the list\n",
    "node5.next = node3  # Creating a loop by connecting the last node to node2\n",
    "\n",
    "get_loop(node1)"
   ]
  },
  {
   "cell_type": "code",
   "execution_count": null,
   "id": "1951f303",
   "metadata": {},
   "outputs": [],
   "source": []
  }
 ],
 "metadata": {
  "kernelspec": {
   "display_name": "Python 3 (ipykernel)",
   "language": "python",
   "name": "python3"
  },
  "language_info": {
   "codemirror_mode": {
    "name": "ipython",
    "version": 3
   },
   "file_extension": ".py",
   "mimetype": "text/x-python",
   "name": "python",
   "nbconvert_exporter": "python",
   "pygments_lexer": "ipython3",
   "version": "3.11.5"
  }
 },
 "nbformat": 4,
 "nbformat_minor": 5
}
