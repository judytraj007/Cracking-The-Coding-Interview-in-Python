{
 "cells": [
  {
   "cell_type": "markdown",
   "id": "c025fb8f",
   "metadata": {},
   "source": [
    "### 1. You're given two 32-bit numbers M and N, and two bit positions j and i. Insert M into N such that the bits j through i in N will be M. M is guaranteed to fit in bits j through i.\n",
    "- Sets bits i through j of N as 0 ( Use a mask that is all 1, with bits j through i 0, AND with N)\n",
    "- Shift M to left by i, so it's aligned with M\n",
    "- bitwise OR to set j-i bits of N as M"
   ]
  },
  {
   "cell_type": "code",
   "execution_count": 1,
   "id": "c760680a",
   "metadata": {},
   "outputs": [
    {
     "name": "stdout",
     "output_type": "stream",
     "text": [
      "Result: 0b10001001100\n"
     ]
    }
   ],
   "source": [
    "def insert_bits(N, M, i, j):\n",
    "    # Step 1: Create a mask to clear bits j through i in N\n",
    "    all_ones = ~0  # This will be a sequence of all 1's\n",
    "    \n",
    "    # 1's before position j, then 0's\n",
    "    left = all_ones << (j + 1)\n",
    "    \n",
    "    # 1's after position i\n",
    "    right = (1 << i) - 1\n",
    "    \n",
    "    # All 1's, except for 0's between i and j\n",
    "    mask = left | right\n",
    "    \n",
    "    # Clear bits j through i in N\n",
    "    N_cleared = N & mask\n",
    "    \n",
    "    # Step 2: Shift M to the correct position\n",
    "    M_shifted = M << i\n",
    "    \n",
    "    # Step 3: Combine N_cleared with M_shifted\n",
    "    result = N_cleared | M_shifted\n",
    "    \n",
    "    return result\n",
    "\n",
    "# Example usage\n",
    "N = 0b10000000000\n",
    "M = 0b10011\n",
    "i = 2\n",
    "j = 6\n",
    "\n",
    "result = insert_bits(N, M, i, j)\n",
    "print(f\"Result: {bin(result)}\")\n"
   ]
  },
  {
   "cell_type": "markdown",
   "id": "55b177b8",
   "metadata": {},
   "source": [
    "### 2. Given a real number between 0 and 1 as a double, convert to binary. If unable, show ERROR.\n",
    "- repeatedly multiply the number by 2 and record the integer part of the result (either 0 or 1). \n",
    "- If the integer part is 1, we subtract 1 from the number and continue."
   ]
  },
  {
   "cell_type": "code",
   "execution_count": 2,
   "id": "75b37210",
   "metadata": {},
   "outputs": [
    {
     "name": "stdout",
     "output_type": "stream",
     "text": [
      "Binary representation of 0.625: .101\n",
      "Binary representation of 0.1: ERROR\n"
     ]
    }
   ],
   "source": [
    "def double_to_binary(num):\n",
    "    if num >= 1 or num <= 0:\n",
    "        return \"ERROR\"\n",
    "\n",
    "    binary = \".\"\n",
    "    frac = num\n",
    "\n",
    "    while frac > 0:\n",
    "        # Setting a limit on length: 32 characters\n",
    "        if len(binary) >= 34:  # 1 for the decimal point + 32 for binary places + 1 initial 0\n",
    "            return \"ERROR\"\n",
    "\n",
    "        r = frac * 2\n",
    "        if r >= 1:\n",
    "            binary += \"1\"\n",
    "            frac = r - 1\n",
    "        else:\n",
    "            binary += \"0\"\n",
    "            frac = r\n",
    "\n",
    "    return binary\n",
    "\n",
    "# Example usage\n",
    "number = 0.625\n",
    "result = double_to_binary(number)\n",
    "print(f\"Binary representation of {number}: {result}\")\n",
    "\n",
    "number = 0.1\n",
    "result = double_to_binary(number)\n",
    "print(f\"Binary representation of {number}: {result}\")\n"
   ]
  },
  {
   "cell_type": "markdown",
   "id": "89480e2a",
   "metadata": {},
   "source": [
    "### 3. Given an integer, find the length of the longest sequence of 1s you can create by flipping 1 bit.\n",
    "- Traverse through the bits of the integer.\n",
    "- Keep track of the lengths of sequences of 1s before and after a possible 0 bit that can be flipped.\n",
    "- Calculate the maximum possible length of 1s that can be obtained by flipping each 0 bit to 1.\n"
   ]
  },
  {
   "cell_type": "code",
   "execution_count": 3,
   "id": "66dc80db",
   "metadata": {},
   "outputs": [
    {
     "name": "stdout",
     "output_type": "stream",
     "text": [
      "The length of the longest sequence of 1s by flipping one bit is: 8\n"
     ]
    }
   ],
   "source": [
    "def longest_sequence_of_1s(num):\n",
    "    # If all bits are 1, then flipping any bit won't change the length of 1s\n",
    "    if ~num == 0:\n",
    "        return num.bit_length()\n",
    "    \n",
    "    current_length = 0\n",
    "    previous_length = 0\n",
    "    max_length = 0\n",
    "    \n",
    "    while num != 0:\n",
    "        if (num & 1) == 1:  # Current bit is 1\n",
    "            current_length += 1\n",
    "        else:  # Current bit is 0\n",
    "            # If next bit is also 0, reset the previous length to 0\n",
    "            previous_length = 0 if (num & 2) == 0 else current_length\n",
    "            current_length = 0\n",
    "        \n",
    "        # max_length is the maximum of current found lengths\n",
    "        max_length = max(max_length, previous_length + current_length + 1)\n",
    "        \n",
    "        # Right shift num by 1 to check the next bit\n",
    "        num >>= 1\n",
    "    \n",
    "    return max_length\n",
    "\n",
    "# Example usage\n",
    "number = 1775  # Binary: 11011101111\n",
    "print(f\"The length of the longest sequence of 1s by flipping one bit is: {longest_sequence_of_1s(number)}\")\n"
   ]
  },
  {
   "cell_type": "markdown",
   "id": "c919c5ee",
   "metadata": {},
   "source": [
    "### 4. Given a positive number, print the next smallest and largest numbers with the same number of 1s in their binary representation.\n",
    "- To find the next largest number with the same number of 1s:\n",
    "\n",
    ". Identify the rightmost non-trailing zero and the rightmost 1 that follows it.\n",
    ". Swap these bits.\n",
    ". Rearrange all bits to the right of the swap position to be in ascending order (to get the smallest possible number with the same number of 1s).\n",
    "\n",
    "- To find the next smallest number with the same number of 1s:\n",
    "\n",
    ". Identify the rightmost non-trailing one and the rightmost 0 that follows it.\n",
    ". Swap these bits.\n",
    ". Rearrange all bits to the right of the swap position to be in descending order (to get the largest possible number with the same number of 1s).\n"
   ]
  },
  {
   "cell_type": "code",
   "execution_count": 5,
   "id": "3816c53b",
   "metadata": {},
   "outputs": [
    {
     "name": "stdout",
     "output_type": "stream",
     "text": [
      "Original number: 13948 (binary: 0b11011001111100)\n",
      "Next largest: 13967 (binary: 0b11011010001111)\n",
      "Next smallest: 13946 (binary: 0b11011001111010)\n"
     ]
    }
   ],
   "source": [
    "def get_next_largest(n):\n",
    "    c = n\n",
    "    c0 = c1 = 0\n",
    "    while ((c & 1) == 0) and (c != 0):\n",
    "        c0 += 1\n",
    "        c >>= 1\n",
    "    while (c & 1) == 1:\n",
    "        c1 += 1\n",
    "        c >>= 1\n",
    "    \n",
    "    if c0 + c1 == 31 or c0 + c1 == 0:\n",
    "        return -1  # There is no larger number with the same number of 1s\n",
    "    \n",
    "    pos = c0 + c1\n",
    "    n |= (1 << pos)  # Flip the rightmost non-trailing zero\n",
    "    n &= ~((1 << pos) - 1)  # Clear all bits to the right of pos\n",
    "    n |= (1 << (c1 - 1)) - 1  # Insert (c1-1) ones on the right\n",
    "    \n",
    "    return n\n",
    "\n",
    "def get_next_smallest(n):\n",
    "    temp = n\n",
    "    c0 = c1 = 0\n",
    "    while (temp & 1) == 1:\n",
    "        c1 += 1\n",
    "        temp >>= 1\n",
    "    \n",
    "    if temp == 0:\n",
    "        return -1  # There is no smaller number with the same number of 1s\n",
    "    \n",
    "    while ((temp & 1) == 0) and (temp != 0):\n",
    "        c0 += 1\n",
    "        temp >>= 1\n",
    "    \n",
    "    p = c0 + c1\n",
    "    n &= ((~0) << (p + 1))  # Clears from bit p onwards\n",
    "    mask = (1 << (c1 + 1)) - 1  # Sequence of (c1+1) ones\n",
    "    n |= mask << (c0 - 1)\n",
    "    \n",
    "    return n\n",
    "\n",
    "# Example usage\n",
    "number = 13948  # Binary: 11011001111100\n",
    "\n",
    "next_largest = get_next_largest(number)\n",
    "next_smallest = get_next_smallest(number)\n",
    "\n",
    "print(f\"Original number: {number} (binary: {bin(number)})\")\n",
    "print(f\"Next largest: {next_largest} (binary: {bin(next_largest)})\")\n",
    "print(f\"Next smallest: {next_smallest} (binary: {bin(next_smallest)})\")\n"
   ]
  },
  {
   "cell_type": "markdown",
   "id": "d648a1c0",
   "metadata": {},
   "source": [
    "### 5. What does n & (n-1) == 0 mean?"
   ]
  },
  {
   "cell_type": "markdown",
   "id": "2fb0af57",
   "metadata": {},
   "source": [
    "- if a & b == 0, a and b has no bit positions which is both 1. \n",
    "- n-1 is same as flipping the trailing zeros to 1 and the last 1 to 0. eg: n = 1000, n-1 = 0111\n",
    "- Numbers that are powers of 2 have a single 1 bit followed by 0 bits in their binary representation. eg: 1000\n",
    "- When we perform a bitwise AND operation (&) between n and n-1, the result will be 0 if and only if n is a power of 2. This is because:\n",
    "\n",
    "    - The 1 bit in n and the 0 bit in n-1 will always be in the same position.\n",
    "    - All other bits to the right will be 0 in n and 1 in n-1."
   ]
  },
  {
   "cell_type": "markdown",
   "id": "f094a17c",
   "metadata": {},
   "source": [
    "### 6. Find the number of bits you'd need to flip to convert integer A to integer B\n",
    "- by XORing the two numbers, you can identify the bits that differ between them. \n",
    "- Then, you simply count the number of 1s in the result to get the number of differing bits."
   ]
  },
  {
   "cell_type": "code",
   "execution_count": 8,
   "id": "d5fd9a16",
   "metadata": {},
   "outputs": [
    {
     "name": "stdout",
     "output_type": "stream",
     "text": [
      "Number of bits to flip to convert 29 to 15: 2\n"
     ]
    }
   ],
   "source": [
    "def count_bits_to_flip(a, b):\n",
    "    # Perform XOR between a and b\n",
    "    xor_result = a ^ b\n",
    "    \n",
    "    # Count the number of 1s in the XOR result\n",
    "    count = 0\n",
    "    while xor_result:\n",
    "        count += xor_result & 1 # Increment the count if the least significant bit of xor_result is 1.\n",
    "        xor_result >>= 1 # right shift one bit to check the next bit\n",
    "    \n",
    "    return count\n",
    "\n",
    "# Example usage\n",
    "A = 29  # Binary: 11101\n",
    "B = 15  # Binary: 01111\n",
    "\n",
    "print(f\"Number of bits to flip to convert {A} to {B}: {count_bits_to_flip(A, B)}\")\n"
   ]
  },
  {
   "cell_type": "markdown",
   "id": "fe220149",
   "metadata": {},
   "source": [
    "### 7. Write a function to swap odd and even bits in as few steps are possible."
   ]
  },
  {
   "cell_type": "code",
   "execution_count": 9,
   "id": "37c3f169",
   "metadata": {},
   "outputs": [
    {
     "name": "stdout",
     "output_type": "stream",
     "text": [
      "Original number: 23 (binary: 0b10111)\n",
      "Swapped number: 43 (binary: 0b101011)\n"
     ]
    }
   ],
   "source": [
    "def swap_odd_even_bits(n):\n",
    "    # Masks for odd and even bits\n",
    "    ODD_MASK = 0xAAAAAAAA  # Binary: 10101010... (32 bits)\n",
    "    EVEN_MASK = 0x55555555  # Binary: 01010101... (32 bits)\n",
    "    \n",
    "    # Extract odd bits and shift them right\n",
    "    odd_bits = (n & ODD_MASK) >> 1\n",
    "    \n",
    "    # Extract even bits and shift them left\n",
    "    even_bits = (n & EVEN_MASK) << 1\n",
    "    \n",
    "    # Combine the shifted odd and even bits\n",
    "    return odd_bits | even_bits\n",
    "\n",
    "# Example usage\n",
    "number = 23  # Binary: 10111\n",
    "swapped = swap_odd_even_bits(number)\n",
    "print(f\"Original number: {number} (binary: {bin(number)})\")\n",
    "print(f\"Swapped number: {swapped} (binary: {bin(swapped)})\")\n"
   ]
  },
  {
   "cell_type": "markdown",
   "id": "13610501",
   "metadata": {},
   "source": [
    "### 8. A monochrome screen is stored as a single array of bytes, allowing eight consecutive pixels to be stored in one byte.The screen has width w,where w is divisible by 8 (that is,no byte will be split across rows). The height of the screen,of course, can be derived from the length of the array and the width. \n",
    "- Implement a function drawHorizontall_ine(byte[] screen, int width, int x1, int x2, int y )which draws a horizontal line from (xl, y) to (x2, y).\n",
    "\n",
    "#### solution:\n",
    "\n",
    "1. Understanding the Screen Representation:\n",
    "\n",
    "Each byte represents 8 consecutive pixels.\n",
    "The screen width w is divisible by 8, meaning each row consists of w / 8 bytes.\n",
    "\n",
    "2. Calculating the Byte Indices:\n",
    "\n",
    "To draw a line from (x1, y) to (x2, y), calculate which bytes these pixels fall into.\n",
    "If x1 and x2 fall into the same byte, we only need to manipulate that byte. Otherwise, we manipulate the bits from x1 to the end of its byte and from the beginning of x2's byte to x2.\n",
    "\n",
    "3. Bit Manipulation:\n",
    "\n",
    "Use bitwise operations to set the appropriate bits within the bytes."
   ]
  },
  {
   "cell_type": "code",
   "execution_count": 10,
   "id": "ed63f2f9",
   "metadata": {},
   "outputs": [
    {
     "name": "stdout",
     "output_type": "stream",
     "text": [
      "00000000\n",
      "00000000\n",
      "01111110\n",
      "00000000\n",
      "00000000\n",
      "00000000\n",
      "00000000\n",
      "00000000\n"
     ]
    }
   ],
   "source": [
    "def drawHorizontalLine(screen, width, x1, x2, y):\n",
    "    # Number of bytes in a row\n",
    "    bytes_per_row = width // 8\n",
    "    \n",
    "    # Calculate the start and end byte index in the array\n",
    "    start_byte = (y * bytes_per_row) + (x1 // 8)\n",
    "    end_byte = (y * bytes_per_row) + (x2 // 8)\n",
    "    \n",
    "    # Set bits for the first byte\n",
    "    start_offset = x1 % 8\n",
    "    end_offset = x2 % 8\n",
    "    \n",
    "    if start_byte == end_byte:\n",
    "        # x1 and x2 are within the same byte\n",
    "        screen[start_byte] |= ((0xFF >> start_offset) & (0xFF << (7 - end_offset)))\n",
    "    else:\n",
    "        # Set bits for the start byte\n",
    "        screen[start_byte] |= 0xFF >> start_offset\n",
    "        \n",
    "        # Set bits for the bytes in between\n",
    "        for i in range(start_byte + 1, end_byte):\n",
    "            screen[i] |= 0xFF\n",
    "        \n",
    "        # Set bits for the end byte\n",
    "        screen[end_byte] |= 0xFF << (7 - end_offset)\n",
    "\n",
    "# Example usage\n",
    "screen = [0b00000000] * 8  # 8 bytes (64 bits) for simplicity, 8x8 screen\n",
    "width = 8  # Width is 8 pixels\n",
    "x1 = 1\n",
    "x2 = 6\n",
    "y = 2\n",
    "\n",
    "drawHorizontalLine(screen, width, x1, x2, y)\n",
    "\n",
    "# Print the screen in binary format for visualization\n",
    "for row in range(len(screen) // (width // 8)):\n",
    "    row_data = screen[row * (width // 8):(row + 1) * (width // 8)]\n",
    "    print(' '.join(format(byte, '08b') for byte in row_data))\n"
   ]
  },
  {
   "cell_type": "code",
   "execution_count": null,
   "id": "10ea0b0d",
   "metadata": {},
   "outputs": [],
   "source": []
  }
 ],
 "metadata": {
  "kernelspec": {
   "display_name": "Python 3 (ipykernel)",
   "language": "python",
   "name": "python3"
  },
  "language_info": {
   "codemirror_mode": {
    "name": "ipython",
    "version": 3
   },
   "file_extension": ".py",
   "mimetype": "text/x-python",
   "name": "python",
   "nbconvert_exporter": "python",
   "pygments_lexer": "ipython3",
   "version": "3.11.5"
  }
 },
 "nbformat": 4,
 "nbformat_minor": 5
}
