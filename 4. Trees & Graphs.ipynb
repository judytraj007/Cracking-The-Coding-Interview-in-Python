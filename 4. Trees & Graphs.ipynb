{
 "cells": [
  {
   "cell_type": "code",
   "execution_count": 33,
   "id": "fa6197ca",
   "metadata": {},
   "outputs": [],
   "source": [
    "# Construct Node and Graph\n",
    "class TreeNode:\n",
    "    def __init__(self, val=None):\n",
    "        self.val = val\n",
    "        self.left, self.right = None, None\n",
    "\n",
    "    def __repr__(self):\n",
    "        return str(self.val)\n",
    "\n",
    "class GraphNode:\n",
    "    def __init__(self, val=None, children=[]):\n",
    "        self.val = val\n",
    "        self.children = children\n",
    "        \n",
    "    def __repr__(self):\n",
    "        return str(self.val)\n",
    "        \n",
    "class Graph:\n",
    "    def __init__(self):\n",
    "        self.nodes = []\n",
    "\n",
    "root = Node(5)\n",
    "a = Node(3)\n",
    "b = Node(6)\n",
    "c = Node(4)\n",
    "d = Node(7)\n",
    "root.children = [a,b]\n",
    "b.children = [c]\n",
    "d.children = [root]\n",
    "\n",
    "\n",
    "g = Graph()\n",
    "g.nodes = [root,a,b,c,d]"
   ]
  },
  {
   "cell_type": "markdown",
   "id": "d50598a9",
   "metadata": {},
   "source": [
    "### 1.Route Between Nodes\n",
    ". Given a directed graph, find out if there's a route between two nodes"
   ]
  },
  {
   "cell_type": "code",
   "execution_count": 23,
   "id": "38b6f3e9",
   "metadata": {},
   "outputs": [],
   "source": [
    "def dfs(node, target, visited):\n",
    "    if node == target:\n",
    "        return True\n",
    "    \n",
    "    visited.add(node)\n",
    "    \n",
    "    for child in node.children:\n",
    "        if child not in visited:\n",
    "            if dfs(child, target, visited):\n",
    "                return True\n",
    "    \n",
    "    return False\n",
    "\n",
    "def find_path(root, target):\n",
    "    visited = set()\n",
    "    return dfs(root, target, visited)\n"
   ]
  },
  {
   "cell_type": "code",
   "execution_count": 27,
   "id": "fc094812",
   "metadata": {},
   "outputs": [
    {
     "data": {
      "text/plain": [
       "False"
      ]
     },
     "execution_count": 27,
     "metadata": {},
     "output_type": "execute_result"
    }
   ],
   "source": [
    "find_path(root, d)"
   ]
  },
  {
   "cell_type": "markdown",
   "id": "7ca46e46",
   "metadata": {},
   "source": [
    "### 2. Minimal Tree\n",
    "- Given a sorted list of integers, construct a bst with minimal height"
   ]
  },
  {
   "cell_type": "code",
   "execution_count": 29,
   "id": "ac1f0a6e",
   "metadata": {},
   "outputs": [],
   "source": [
    "def construct_minimal_bst(nums):\n",
    "    if not nums:\n",
    "        return None\n",
    "    \n",
    "    mid = len(nums) // 2\n",
    "    root = TreeNode(nums[mid])\n",
    "    \n",
    "    root.left = construct_minimal_bst(nums[:mid])\n",
    "    root.right = construct_minimal_bst(nums[mid+1:])\n",
    "    \n",
    "    return root"
   ]
  },
  {
   "cell_type": "code",
   "execution_count": 34,
   "id": "06922871",
   "metadata": {},
   "outputs": [
    {
     "data": {
      "text/plain": [
       "5"
      ]
     },
     "execution_count": 34,
     "metadata": {},
     "output_type": "execute_result"
    }
   ],
   "source": [
    "construct_minimal_bst([2,4,5,7,9])"
   ]
  },
  {
   "cell_type": "markdown",
   "id": "677cf0bf",
   "metadata": {},
   "source": [
    "### 3. List of Depths\n",
    "- Given a binary tree, create linkedlist of nodes at each depth"
   ]
  },
  {
   "cell_type": "code",
   "execution_count": 35,
   "id": "0c0bcdf4",
   "metadata": {},
   "outputs": [],
   "source": [
    "class ListNode:\n",
    "    def __init__(self, val):\n",
    "        self.val = val\n",
    "        self.next = None\n",
    "        \n",
    "def bfs(root):\n",
    "    if not root:\n",
    "        return []\n",
    "    \n",
    "    q = deque([root])\n",
    "    res = []\n",
    "    \n",
    "    while q:\n",
    "        level_size = len(q)\n",
    "        level_head = ListNode(-1)  # dummy head node for the current level's linked list\n",
    "        curr = level_head\n",
    "        \n",
    "        for _ in range(level_size):\n",
    "            node = q.popleft()\n",
    "            curr.next = ListNode(node.val)\n",
    "            curr = curr.next\n",
    "            \n",
    "            if node.left:\n",
    "                q.append(node.left)\n",
    "            if node.right:\n",
    "                q.append(node.right)\n",
    "        \n",
    "        res.append(level_head.next)  # append the head of the current level's linked list\n",
    "    \n",
    "    return res\n",
    "        \n",
    "            "
   ]
  },
  {
   "cell_type": "markdown",
   "id": "5c5f2f51",
   "metadata": {},
   "source": [
    "### 4. Implement a function to see if a binary tree is balanced"
   ]
  },
  {
   "cell_type": "code",
   "execution_count": 36,
   "id": "41ae37e3",
   "metadata": {},
   "outputs": [],
   "source": [
    "def check_height_and_balance(node):\n",
    "    if not node:\n",
    "        return 0, True  # height, is_balanced\n",
    "\n",
    "    left_height, left_balanced = check_height_and_balance(node.left)\n",
    "    right_height, right_balanced = check_height_and_balance(node.right)\n",
    "\n",
    "    current_height = max(left_height, right_height) + 1\n",
    "    is_balanced = left_balanced and right_balanced and abs(left_height - right_height) <= 1\n",
    "\n",
    "    return current_height, is_balanced\n",
    "\n",
    "def check_balanced(node):\n",
    "    _, is_balanced = check_height_and_balance(node)\n",
    "    return is_balanced"
   ]
  },
  {
   "cell_type": "markdown",
   "id": "6a88b8b2",
   "metadata": {},
   "source": [
    "### 5. Implement a function to see if a binary tree is a BST\n",
    " - Checking if in-order traversal is sorted would work if we can assume the tree has no duplicate nodes"
   ]
  },
  {
   "cell_type": "code",
   "execution_count": 39,
   "id": "1972ffe2",
   "metadata": {},
   "outputs": [],
   "source": [
    "def is_bst_rec(node, min_, max_):\n",
    "    if not node:\n",
    "        return True\n",
    "    if not (min_ < node.value <= max_):\n",
    "        return False\n",
    "    return is_bst_rec(node.left, min_, node.value) and is_bst_rec(node.right, node.value, max_) \n",
    "\n",
    "def is_bst(root):\n",
    "    return is_bst_rec(root, float('-inf'), float('inf'))"
   ]
  },
  {
   "cell_type": "markdown",
   "id": "87839a98",
   "metadata": {},
   "source": [
    "### 6. Find the in-order successor for a node in a BST if all nodes have a link to it's parent\n",
    "- In-order successor will be the leftmost node if current node has a right subtree or it is the first ancestor for which the node is in the left subtree."
   ]
  },
  {
   "cell_type": "code",
   "execution_count": 40,
   "id": "02e26e61",
   "metadata": {},
   "outputs": [],
   "source": [
    "class TreeNode:\n",
    "    def __init__(self, value=0, left=None, right=None, parent=None):\n",
    "        self.value = value\n",
    "        self.left = left\n",
    "        self.right = right\n",
    "        self.parent = parent\n",
    "\n",
    "def find_min(node):\n",
    "    while node.left:\n",
    "        node = node.left\n",
    "    return node\n",
    "\n",
    "def find_successor(node):\n",
    "    # If the node has a right child, return the leftmost node in the right subtree\n",
    "    if node.right:\n",
    "        return find_min(node.right)\n",
    "\n",
    "    # Otherwise, go up until we find an ancestor which is a left child of its parent\n",
    "    current = node\n",
    "    parent = node.parent\n",
    "    while parent and current == parent.right:\n",
    "        current = parent\n",
    "        parent = parent.parent\n",
    "    \n",
    "    return parent\n"
   ]
  },
  {
   "cell_type": "markdown",
   "id": "c8fab272",
   "metadata": {},
   "source": [
    "### 7. Given a list of dependencies and projects (pairs of projects where the second can only be started after the first is done), find a build order\n",
    "- Toplogical sort\n",
    "- DFS from a random node, keep adding terminating nodes to the end of the list and start node to the front if all children have been added already. No valid build order if there's a cycle validated by a visited set."
   ]
  },
  {
   "cell_type": "markdown",
   "id": "4427da95",
   "metadata": {},
   "source": [
    "### 8. First common ancestor\n",
    "- Given two nodes in a binary tree, find their first common ancestor without storing all the nodes in a data structure."
   ]
  },
  {
   "cell_type": "code",
   "execution_count": 41,
   "id": "af4a47f1",
   "metadata": {},
   "outputs": [],
   "source": [
    "def find_common_ancestor(root, p, q):\n",
    "    if root is None:\n",
    "        return None\n",
    "    \n",
    "    # If root is one of p or q, then root is the common ancestor\n",
    "    if root == p or root == q:\n",
    "        return root\n",
    "\n",
    "    # Recur for left and right subtrees\n",
    "    left_ancestor = find_common_ancestor(root.left, p, q)\n",
    "    right_ancestor = find_common_ancestor(root.right, p, q)\n",
    "\n",
    "    # If p and q are found in left and right subtrees of current node, then current node is the common ancestor\n",
    "    if left_ancestor and right_ancestor:\n",
    "        return root\n",
    "\n",
    "    # Otherwise check if left subtree or right subtree is common ancestor\n",
    "    return left_ancestor if left_ancestor is not None else right_ancestor"
   ]
  },
  {
   "cell_type": "markdown",
   "id": "a24f9401",
   "metadata": {},
   "source": [
    "### 9. Given a BST,find all possible arrays that could've been traversed left to right to construct this BST\n"
   ]
  },
  {
   "cell_type": "code",
   "execution_count": 43,
   "id": "4bf86cd2",
   "metadata": {},
   "outputs": [
    {
     "data": {
      "text/plain": [
       "[[2, 1, 3], [2, 3, 1]]"
      ]
     },
     "execution_count": 43,
     "metadata": {},
     "output_type": "execute_result"
    }
   ],
   "source": [
    "def all_sequences(node):\n",
    "    if node is None:\n",
    "        return [[]]\n",
    "\n",
    "    result = []\n",
    "\n",
    "    left_seq = all_sequences(node.left)\n",
    "    right_seq = all_sequences(node.right)\n",
    "\n",
    "    prefix = [node.val]\n",
    "\n",
    "    for left in left_seq:\n",
    "        for right in right_seq:\n",
    "            weaved = []\n",
    "            weave_lists(left, right, weaved, prefix)\n",
    "            result.extend(weaved)\n",
    "\n",
    "    return result\n",
    "\n",
    "def weave_lists(first, second, results, prefix):\n",
    "    if not first or not second:\n",
    "        result = prefix + first + second\n",
    "        results.append(result)\n",
    "        return\n",
    "\n",
    "    head_first = first.pop(0)\n",
    "    prefix.append(head_first)\n",
    "    weave_lists(first, second, results, prefix)\n",
    "    prefix.pop()\n",
    "    first.insert(0, head_first)\n",
    "\n",
    "    head_second = second.pop(0)\n",
    "    prefix.append(head_second)\n",
    "    weave_lists(first, second, results, prefix)\n",
    "    prefix.pop()\n",
    "    second.insert(0, head_second)\n",
    "\n",
    "# Example usage:\n",
    "class TreeNode:\n",
    "    def __init__(self, val=0, left=None, right=None):\n",
    "        self.val = val\n",
    "        self.left = left\n",
    "        self.right = right\n",
    "\n",
    "root = TreeNode(2)\n",
    "root.left = TreeNode(1)\n",
    "root.right = TreeNode(3)\n",
    "\n",
    "all_sequences(root)\n"
   ]
  },
  {
   "cell_type": "markdown",
   "id": "ccae28bd",
   "metadata": {},
   "source": [
    "### 10. Given two binary trees, t1 and t2, check if t2 is a subtree of t1\n",
    "- Alternate approach: If None nodes are represented, preorder traversals of a tree is unique. Construct two strings and check for substrings\n"
   ]
  },
  {
   "cell_type": "code",
   "execution_count": 44,
   "id": "a059e3c8",
   "metadata": {},
   "outputs": [],
   "source": [
    "def is_subtree(t1, t2):\n",
    "    if not t2:\n",
    "        return True  # An empty tree is always a subtree\n",
    "    if not t1:\n",
    "        return False  # t2 is not empty, but t1 is empty\n",
    "    if are_identical(t1, t2):\n",
    "        return True\n",
    "    return is_subtree(t1.left, t2) or is_subtree(t1.right, t2)\n",
    "\n",
    "def are_identical(tree1, tree2):\n",
    "    if not tree1 and not tree2:\n",
    "        return True  # Both trees are empty\n",
    "    if not tree1 or not tree2:\n",
    "        return False  # One of the trees is empty\n",
    "    if tree1.val != tree2.val:\n",
    "        return False  # The values at the current nodes do not match\n",
    "    return are_identical(tree1.left, tree2.left) and are_identical(tree1.right, tree2.right)"
   ]
  },
  {
   "cell_type": "markdown",
   "id": "7bcb9810",
   "metadata": {},
   "source": [
    "### 11. Implement a Binary Tree Class from scratch to perform insert, find and delete operations. Should have a getRandomNode method that has an equal probability of returning any node in the tree. "
   ]
  },
  {
   "cell_type": "code",
   "execution_count": 47,
   "id": "a8bea624",
   "metadata": {},
   "outputs": [
    {
     "name": "stdout",
     "output_type": "stream",
     "text": [
      "4\n",
      "None\n",
      "8\n"
     ]
    }
   ],
   "source": [
    "import random\n",
    "\n",
    "class TreeNode:\n",
    "    def __init__(self, val=0):\n",
    "        self.val = val\n",
    "        self.left = None\n",
    "        self.right = None\n",
    "        self.size = 1  # Size of the subtree rooted at this node\n",
    "\n",
    "class BinaryTree:\n",
    "    def __init__(self):\n",
    "        self.root = None\n",
    "\n",
    "    def insert(self, val):\n",
    "        if not self.root:\n",
    "            self.root = TreeNode(val)\n",
    "        else:\n",
    "            self._insert(self.root, val)\n",
    "\n",
    "    def _insert(self, node, val):\n",
    "        if val <= node.val:\n",
    "            if not node.left:\n",
    "                node.left = TreeNode(val)\n",
    "            else:\n",
    "                self._insert(node.left, val)\n",
    "        else:\n",
    "            if not node.right:\n",
    "                node.right = TreeNode(val)\n",
    "            else:\n",
    "                self._insert(node.right, val)\n",
    "        node.size += 1\n",
    "\n",
    "    def find(self, val):\n",
    "        return self._find(self.root, val)\n",
    "\n",
    "    def _find(self, node, val):\n",
    "        if not node:\n",
    "            return None\n",
    "        if val == node.val:\n",
    "            return node\n",
    "        elif val < node.val:\n",
    "            return self._find(node.left, val)\n",
    "        else:\n",
    "            return self._find(node.right, val)\n",
    "\n",
    "    def delete(self, val):\n",
    "        self.root, _ = self._delete(self.root, val)\n",
    "\n",
    "    def _delete(self, node, val):\n",
    "        if not node:\n",
    "            return node, None\n",
    "\n",
    "        if val == node.val:\n",
    "            if not node.left:\n",
    "                return node.right, node\n",
    "            elif not node.right:\n",
    "                return node.left, node\n",
    "\n",
    "            min_larger_node = self._get_min(node.right)\n",
    "            node.val, min_larger_node.val = min_larger_node.val, node.val\n",
    "            node.right, _ = self._delete(node.right, val)\n",
    "\n",
    "        elif val < node.val:\n",
    "            node.left, _ = self._delete(node.left, val)\n",
    "        else:\n",
    "            node.right, _ = self._delete(node.right, val)\n",
    "\n",
    "        node.size -= 1\n",
    "        return node, node\n",
    "\n",
    "    def _get_min(self, node):\n",
    "        while node.left:\n",
    "            node = node.left\n",
    "        return node\n",
    "\n",
    "    def getRandomNode(self):\n",
    "        if not self.root:\n",
    "            return None\n",
    "        return self._getRandomNode(self.root)\n",
    "\n",
    "    def _getRandomNode(self, node):\n",
    "        left_size = node.left.size if node.left else 0\n",
    "        index = random.randint(0, node.size - 1)\n",
    "        \n",
    "        if index < left_size:\n",
    "            return self._getRandomNode(node.left)\n",
    "        elif index == left_size:\n",
    "            return node\n",
    "        else:\n",
    "            return self._getRandomNode(node.right)\n",
    "\n",
    "# Example usage:\n",
    "bt = BinaryTree()\n",
    "bt.insert(5)\n",
    "bt.insert(3)\n",
    "bt.insert(7)\n",
    "bt.insert(2)\n",
    "bt.insert(4)\n",
    "bt.insert(6)\n",
    "bt.insert(8)\n",
    "\n",
    "print(bt.find(4).val)  # Output: 4\n",
    "bt.delete(4)\n",
    "print(bt.find(4))      # Output: None\n",
    "print(bt.getRandomNode().val)  # Output: Random node value from the tree\n"
   ]
  },
  {
   "cell_type": "markdown",
   "id": "3c1a52e5",
   "metadata": {},
   "source": [
    "### 12. Given a binary tree with both negative and positive values, count all paths that sum to a target"
   ]
  },
  {
   "cell_type": "code",
   "execution_count": 53,
   "id": "708801a4",
   "metadata": {},
   "outputs": [
    {
     "data": {
      "text/plain": [
       "1"
      ]
     },
     "execution_count": 53,
     "metadata": {},
     "output_type": "execute_result"
    }
   ],
   "source": [
    "class TreeNode:\n",
    "    def __init__(self, val=0, left=None, right=None):\n",
    "        self.val = val\n",
    "        self.left = left\n",
    "        self.right = right\n",
    "\n",
    "def count_paths_with_sum(root, target_sum):\n",
    "    def dfs(node, current_sum, path_count):\n",
    "        if not node:\n",
    "            return 0\n",
    "\n",
    "        current_sum += node.val\n",
    "        sum_count = path_count.get(current_sum - target_sum, 0)\n",
    "        path_count[current_sum] = path_count.get(current_sum, 0) + 1\n",
    "\n",
    "        sum_count += dfs(node.left, current_sum, path_count)\n",
    "        sum_count += dfs(node.right, current_sum, path_count)\n",
    "\n",
    "        path_count[current_sum] -= 1\n",
    "\n",
    "        return sum_count\n",
    "\n",
    "    return dfs(root, 0, {0: 1})\n",
    "\n",
    "# Example usage:\n",
    "# Tree structure:\n",
    "#     10\n",
    "#    /  \\\n",
    "#   5   -3\n",
    "#  / \\    \\\n",
    "# 3   2   11\n",
    "#    / \\\n",
    "#   3  -2  1\n",
    "\n",
    "root = TreeNode(10)\n",
    "root.left = TreeNode(5)\n",
    "root.right = TreeNode(-3)\n",
    "root.left.left = TreeNode(3)\n",
    "root.left.right = TreeNode(2)\n",
    "count_paths_with_sum(root, 18)\n"
   ]
  },
  {
   "cell_type": "code",
   "execution_count": null,
   "id": "4c189c61",
   "metadata": {},
   "outputs": [],
   "source": []
  }
 ],
 "metadata": {
  "kernelspec": {
   "display_name": "Python 3 (ipykernel)",
   "language": "python",
   "name": "python3"
  },
  "language_info": {
   "codemirror_mode": {
    "name": "ipython",
    "version": 3
   },
   "file_extension": ".py",
   "mimetype": "text/x-python",
   "name": "python",
   "nbconvert_exporter": "python",
   "pygments_lexer": "ipython3",
   "version": "3.11.5"
  }
 },
 "nbformat": 4,
 "nbformat_minor": 5
}
