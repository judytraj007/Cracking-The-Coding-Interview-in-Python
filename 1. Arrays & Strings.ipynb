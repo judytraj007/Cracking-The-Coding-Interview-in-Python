{
 "cells": [
  {
   "cell_type": "markdown",
   "id": "33f5d73e",
   "metadata": {},
   "source": [
    "### 1. Is Unique\n",
    "- Implement an algorithm to determine if a string has all unique characters.\n",
    "- What if you cannot use additional data structures?"
   ]
  },
  {
   "cell_type": "code",
   "execution_count": 8,
   "id": "b0d9f7d8",
   "metadata": {},
   "outputs": [],
   "source": [
    "# Using set\n",
    "def is_unique(s):\n",
    "    return len(s) == len(set(s))"
   ]
  },
  {
   "cell_type": "code",
   "execution_count": 2,
   "id": "fd082b65",
   "metadata": {},
   "outputs": [],
   "source": [
    "# Without extra data structures\n",
    "def is_unique(s):\n",
    "    s = sorted(s)\n",
    "    for i in range(1, len(s)):\n",
    "        if s[i] == s[i-1]:\n",
    "            return False\n",
    "    return True\n",
    "        "
   ]
  },
  {
   "cell_type": "code",
   "execution_count": 12,
   "id": "374487a2",
   "metadata": {},
   "outputs": [
    {
     "data": {
      "text/plain": [
       "False"
      ]
     },
     "execution_count": 12,
     "metadata": {},
     "output_type": "execute_result"
    }
   ],
   "source": [
    "is_unique('abca')\n",
    "# Alternate approach: Initialize an array/dict of 26 chars and set index at char True as encountered. \n",
    "# Brute force: Nested iteration - compare each char to all chars."
   ]
  },
  {
   "cell_type": "markdown",
   "id": "341a62ac",
   "metadata": {},
   "source": [
    "### 2. Check permutation\n",
    "\n",
    "- Given two strings, check if one is a permutation of other"
   ]
  },
  {
   "cell_type": "code",
   "execution_count": 15,
   "id": "b1d1804e",
   "metadata": {},
   "outputs": [],
   "source": [
    "# Using set or CounterDict\n",
    "def is_perm(s1, s2):\n",
    "    # return Counter(s1) == Counter(s2)\n",
    "    return set(s1) == set(s2)"
   ]
  },
  {
   "cell_type": "code",
   "execution_count": 16,
   "id": "940dd817",
   "metadata": {},
   "outputs": [
    {
     "data": {
      "text/plain": [
       "True"
      ]
     },
     "execution_count": 16,
     "metadata": {},
     "output_type": "execute_result"
    }
   ],
   "source": [
    "is_perm('cab', 'abc')\n",
    "# alternate approaches: sort strings and return False at first mismatch. Check length mismatch first."
   ]
  },
  {
   "cell_type": "markdown",
   "id": "9c761ad4",
   "metadata": {},
   "source": [
    "### 3. URLify\n",
    "\n",
    "- Replace all whitespaces in a string with %20"
   ]
  },
  {
   "cell_type": "code",
   "execution_count": 22,
   "id": "b044e3be",
   "metadata": {},
   "outputs": [],
   "source": [
    "def urlify(s, length):\n",
    "    ans = []\n",
    "    for i in range(length):\n",
    "        c = s[i]\n",
    "        if c == ' ':\n",
    "            ans.append('%20')\n",
    "        else:\n",
    "            ans.append(c)\n",
    "    return ''.join(ans)"
   ]
  },
  {
   "cell_type": "code",
   "execution_count": 23,
   "id": "c49830b4",
   "metadata": {},
   "outputs": [
    {
     "data": {
      "text/plain": [
       "'Mr%20John%20Smith'"
      ]
     },
     "execution_count": 23,
     "metadata": {},
     "output_type": "execute_result"
    }
   ],
   "source": [
    "urlify(\"Mr John Smith   \", 13)"
   ]
  },
  {
   "cell_type": "markdown",
   "id": "9c3b42b9",
   "metadata": {},
   "source": [
    "### 4. Palindrome Permutation\n",
    "\n",
    "- Given a string check if it is a permuation of a palindrome"
   ]
  },
  {
   "cell_type": "code",
   "execution_count": 37,
   "id": "87a2391e",
   "metadata": {},
   "outputs": [],
   "source": [
    "from collections import Counter\n",
    "def is_parlindrome_perm(s):\n",
    "    count = Counter(s)\n",
    "    odd_occurs = 0\n",
    "    for c,v in count.items():\n",
    "        if v%2 == 1:\n",
    "            odd_occurs+=1 #Utmost one char can occur odd times in a palindrome\n",
    "    return odd_occurs <= 1\n",
    "            \n",
    "    "
   ]
  },
  {
   "cell_type": "code",
   "execution_count": 40,
   "id": "dc8909d1",
   "metadata": {},
   "outputs": [
    {
     "name": "stdout",
     "output_type": "stream",
     "text": [
      "Counter({'t': 2, 'a': 2, 'c': 2, 'o': 1})\n"
     ]
    },
    {
     "data": {
      "text/plain": [
       "True"
      ]
     },
     "execution_count": 40,
     "metadata": {},
     "output_type": "execute_result"
    }
   ],
   "source": [
    "is_parlindrome_perm('tacocat')\n",
    "# Alternate approach: bit manipulation or count manually and return false as soon odds exceed 1"
   ]
  },
  {
   "cell_type": "markdown",
   "id": "ed27957c",
   "metadata": {},
   "source": [
    "### 5. One Away\n",
    "\n",
    "- Given two strings, check if they're one or zero edits away\n"
   ]
  },
  {
   "cell_type": "code",
   "execution_count": 44,
   "id": "c8ffb171",
   "metadata": {},
   "outputs": [],
   "source": [
    "from collections import Counter\n",
    "\n",
    "def one_away(a, b):\n",
    "    count_a = Counter(a)\n",
    "    count_b = Counter(b)\n",
    "    \n",
    "    diff = 0\n",
    "    count_a = count_a if len(count_a) > len(count_b) else count_b\n",
    "    for c,v in count_a.items():\n",
    "        if c not in count_b:\n",
    "            diff+=1\n",
    "        else:\n",
    "            diff+=abs(count_b[c]-v)\n",
    "    return diff <= 1"
   ]
  },
  {
   "cell_type": "code",
   "execution_count": 45,
   "id": "d446be07",
   "metadata": {},
   "outputs": [
    {
     "data": {
      "text/plain": [
       "True"
      ]
     },
     "execution_count": 45,
     "metadata": {},
     "output_type": "execute_result"
    }
   ],
   "source": [
    "one_away('pale', 'pales')"
   ]
  },
  {
   "cell_type": "markdown",
   "id": "f4630e47",
   "metadata": {},
   "source": [
    "### 6. String Compression\n",
    "\n",
    "Implement a method to perform basic string compression using count of repeated characters. If the length is same after compression, return original string."
   ]
  },
  {
   "cell_type": "code",
   "execution_count": 19,
   "id": "9675080d",
   "metadata": {},
   "outputs": [],
   "source": [
    "def compress_string(s):\n",
    "    comp = ''\n",
    "    count = 1\n",
    "    for i in range(len(s)):\n",
    "        if i==(len(s)-1) or s[i] != s[i+1]:\n",
    "            comp+=s[i]\n",
    "            comp+=str(count)\n",
    "            count = 1\n",
    "        else:\n",
    "            count+=1\n",
    "\n",
    "    return comp if len(comp) < len(s) else s\n",
    "        "
   ]
  },
  {
   "cell_type": "code",
   "execution_count": 21,
   "id": "669d65ac",
   "metadata": {},
   "outputs": [
    {
     "data": {
      "text/plain": [
       "'a2b1c5a3'"
      ]
     },
     "execution_count": 21,
     "metadata": {},
     "output_type": "execute_result"
    }
   ],
   "source": [
    "compress_string(\"aabcccccaaa\")\n",
    "# Might be slightly faster to check length of compressed version first"
   ]
  },
  {
   "cell_type": "markdown",
   "id": "7c3be838",
   "metadata": {},
   "source": [
    "### 7. Rotate Matrix\n",
    "\n",
    "Given an nxn matrix representation of an image, do a 90 degree rotation"
   ]
  },
  {
   "cell_type": "code",
   "execution_count": 22,
   "id": "bf1cffc5",
   "metadata": {},
   "outputs": [],
   "source": [
    "def rotate_matrix(matrix):\n",
    "    n = len(matrix)\n",
    "    \n",
    "    # transpose matrix\n",
    "    for i in range(n):\n",
    "        for j in range(n):\n",
    "            matrix[i][j], matrix[j][i] = matrix[j][i], matrix[i][j]\n",
    "            \n",
    "    # reverse rows\n",
    "    for i in range(n):\n",
    "        matrix[i] = matrix[i][::-1]\n",
    "    \n",
    "    return matrix"
   ]
  },
  {
   "cell_type": "code",
   "execution_count": 23,
   "id": "9ccf2b8a",
   "metadata": {},
   "outputs": [
    {
     "data": {
      "text/plain": [
       "[[3, 2, 1], [6, 5, 4], [9, 8, 7]]"
      ]
     },
     "execution_count": 23,
     "metadata": {},
     "output_type": "execute_result"
    }
   ],
   "source": [
    "rotate_matrix([[1,2,3],\n",
    "              [4,5,6],\n",
    "              [7,8,9]])\n",
    "# Alternatively, swap outer edges and work your way in"
   ]
  },
  {
   "cell_type": "markdown",
   "id": "19e85363",
   "metadata": {},
   "source": [
    "### 8. Zero Matrix\n",
    "\n",
    "If an element in an MxN matrix is 0, repace the entire row and column with zeroes.\n"
   ]
  },
  {
   "cell_type": "code",
   "execution_count": 25,
   "id": "156a4f4d",
   "metadata": {},
   "outputs": [],
   "source": [
    "def zero_matrix(matrix):\n",
    "    rows = [False]*len(matrix)\n",
    "    cols = [False]*len(matrix[0])\n",
    "    \n",
    "    for i in range(len(matrix)):\n",
    "        for j in range(len(matrix[0])):\n",
    "            if matrix[i][j] == 0:\n",
    "                rows[i] = True\n",
    "                cols[j] = True\n",
    "                \n",
    "    for i in range(len(rows)):\n",
    "        if rows[i]:\n",
    "            for j in range(len(matrix[i])):\n",
    "                matrix[i][j] = 0\n",
    "                \n",
    "    for i in range(len(cols)):\n",
    "        if cols[i]:\n",
    "            for j in range(len(matrix)):\n",
    "                matrix[j][i] = 0\n",
    "                \n",
    "    return matrix"
   ]
  },
  {
   "cell_type": "code",
   "execution_count": 29,
   "id": "7b3583ed",
   "metadata": {},
   "outputs": [
    {
     "data": {
      "text/plain": [
       "[[0, 0, 0], [1, 0, 0], [3, 0, 0]]"
      ]
     },
     "execution_count": 29,
     "metadata": {},
     "output_type": "execute_result"
    }
   ],
   "source": [
    "zero_matrix([[1,0,0],[1,2,5],[3,2,5]])"
   ]
  },
  {
   "cell_type": "markdown",
   "id": "680c0999",
   "metadata": {},
   "source": [
    "### 9. String Rotation\n",
    "\n",
    "Given a method issubstring(s1, s2) which returns True if s2 is a substring of s1, write code to check if s2 is a rotation of s1 calling issubstring only once."
   ]
  },
  {
   "cell_type": "code",
   "execution_count": 30,
   "id": "14a42a5e",
   "metadata": {},
   "outputs": [],
   "source": [
    "def is_sub(a, b):\n",
    "    return b in a"
   ]
  },
  {
   "cell_type": "code",
   "execution_count": 31,
   "id": "9a785147",
   "metadata": {},
   "outputs": [],
   "source": [
    "def is_rotation(s1, s2):\n",
    "    return is_sub(s1+s1, s2)"
   ]
  },
  {
   "cell_type": "code",
   "execution_count": 33,
   "id": "4ea939ba",
   "metadata": {},
   "outputs": [
    {
     "data": {
      "text/plain": [
       "True"
      ]
     },
     "execution_count": 33,
     "metadata": {},
     "output_type": "execute_result"
    }
   ],
   "source": [
    "is_rotation('waterbottle', 'erbottlewat')"
   ]
  },
  {
   "cell_type": "code",
   "execution_count": null,
   "id": "5aa8e785",
   "metadata": {},
   "outputs": [],
   "source": []
  }
 ],
 "metadata": {
  "kernelspec": {
   "display_name": "Python 3 (ipykernel)",
   "language": "python",
   "name": "python3"
  },
  "language_info": {
   "codemirror_mode": {
    "name": "ipython",
    "version": 3
   },
   "file_extension": ".py",
   "mimetype": "text/x-python",
   "name": "python",
   "nbconvert_exporter": "python",
   "pygments_lexer": "ipython3",
   "version": "3.11.5"
  }
 },
 "nbformat": 4,
 "nbformat_minor": 5
}
